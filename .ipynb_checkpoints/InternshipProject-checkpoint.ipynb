{
 "cells": [
  {
   "cell_type": "code",
   "execution_count": 1,
   "metadata": {},
   "outputs": [
    {
     "ename": "ModuleNotFoundError",
     "evalue": "No module named 'plotly'",
     "output_type": "error",
     "traceback": [
      "\u001b[0;31m---------------------------------------------------------------------------\u001b[0m",
      "\u001b[0;31mModuleNotFoundError\u001b[0m                       Traceback (most recent call last)",
      "\u001b[0;32m<ipython-input-1-90ea7d7f6871>\u001b[0m in \u001b[0;36m<module>\u001b[0;34m\u001b[0m\n\u001b[1;32m      3\u001b[0m \u001b[0;32mimport\u001b[0m \u001b[0mmatplotlib\u001b[0m\u001b[0;34m.\u001b[0m\u001b[0mpyplot\u001b[0m \u001b[0;32mas\u001b[0m \u001b[0mplt\u001b[0m\u001b[0;34m\u001b[0m\u001b[0;34m\u001b[0m\u001b[0m\n\u001b[1;32m      4\u001b[0m \u001b[0mget_ipython\u001b[0m\u001b[0;34m(\u001b[0m\u001b[0;34m)\u001b[0m\u001b[0;34m.\u001b[0m\u001b[0mrun_line_magic\u001b[0m\u001b[0;34m(\u001b[0m\u001b[0;34m'matplotlib'\u001b[0m\u001b[0;34m,\u001b[0m \u001b[0;34m'inline'\u001b[0m\u001b[0;34m)\u001b[0m\u001b[0;34m\u001b[0m\u001b[0;34m\u001b[0m\u001b[0m\n\u001b[0;32m----> 5\u001b[0;31m \u001b[0;32mfrom\u001b[0m \u001b[0mplotly\u001b[0m \u001b[0;32mimport\u001b[0m \u001b[0m__version__\u001b[0m\u001b[0;34m\u001b[0m\u001b[0;34m\u001b[0m\u001b[0m\n\u001b[0m\u001b[1;32m      6\u001b[0m \u001b[0;32mfrom\u001b[0m \u001b[0mplotly\u001b[0m\u001b[0;34m.\u001b[0m\u001b[0moffline\u001b[0m \u001b[0;32mimport\u001b[0m \u001b[0mdownload_plotlyjs\u001b[0m\u001b[0;34m,\u001b[0m \u001b[0minit_notebook_mode\u001b[0m\u001b[0;34m,\u001b[0m \u001b[0mplot\u001b[0m\u001b[0;34m,\u001b[0m \u001b[0miplot\u001b[0m\u001b[0;34m\u001b[0m\u001b[0;34m\u001b[0m\u001b[0m\n\u001b[1;32m      7\u001b[0m \u001b[0;32mimport\u001b[0m \u001b[0mcufflinks\u001b[0m \u001b[0;32mas\u001b[0m \u001b[0mcf\u001b[0m\u001b[0;34m\u001b[0m\u001b[0;34m\u001b[0m\u001b[0m\n",
      "\u001b[0;31mModuleNotFoundError\u001b[0m: No module named 'plotly'"
     ]
    }
   ],
   "source": [
    "import pandas as pd\n",
    "import numpy as np\n",
    "import matplotlib.pyplot as plt\n",
    "%matplotlib inline\n",
    "from plotly import __version__\n",
    "from plotly.offline import download_plotlyjs, init_notebook_mode, plot, iplot\n",
    "import cufflinks as cf\n",
    "init_notebook_mode(connected=True)\n",
    "cf.go_offline()\n",
    "import seaborn as sns; sns.set()"
   ]
  },
  {
   "cell_type": "code",
   "execution_count": null,
   "metadata": {},
   "outputs": [],
   "source": [
    "from __future__ import print_function\n",
    "from ipywidgets import interact, interactive, fixed, interact_manual\n",
    "import ipywidgets as widgets\n",
    "%matplotlib inline\n",
    "from ipywidgets import interactive\n",
    "import matplotlib.pyplot as plt\n",
    "import numpy as np"
   ]
  },
  {
   "cell_type": "code",
   "execution_count": null,
   "metadata": {},
   "outputs": [],
   "source": [
    "materials_path='materials.csv'\n",
    "matpost_path='matpost.csv'"
   ]
  },
  {
   "cell_type": "code",
   "execution_count": null,
   "metadata": {},
   "outputs": [],
   "source": [
    "labels_dict={'code':'CODE',\n",
    "             'mat_type':'MATERIAL_TYPE',\n",
    "             'name':'NAME',\n",
    "             'mat_code':'MAT_CODE',\n",
    "             'names':'Names',\n",
    "             'tran_date':'TRAN_DATE',\n",
    "             'purchase':'Purchase',\n",
    "             'issue':'Issue',\n",
    "             'qty':'QTY',\n",
    "             'compunit_id':'COMPUNIT_ID',\n",
    "             'qty_nos':'QTY_NOS',\n",
    "             'mat_qty':'MAT_QTY',\n",
    "             'mat_rate':'MAT_RATE',\n",
    "             'mat_value':'MAT_VALUE'}"
   ]
  },
  {
   "cell_type": "code",
   "execution_count": null,
   "metadata": {},
   "outputs": [],
   "source": [
    "def matfunc(path1,path2,dlabels):\n",
    "   \n",
    "    materials = pd.read_csv(path1)\n",
    "    matpost = pd.read_csv(path2)\n",
    "    d=materials.set_index(dlabels.get('code'))[dlabels.get('name')].to_dict()\n",
    "    matpost[dlabels.get('mat_code')] = matpost[dlabels.get('mat_code')].replace(np.nan, 0)\n",
    "    matpost[dlabels.get('mat_code')].astype(int)\n",
    "    def names(s):\n",
    "        for k,v in d.items():\n",
    "            if k == s:\n",
    "                return v    \n",
    "    matpost[dlabels.get('names')] = matpost[dlabels.get('mat_code')].astype(int).apply(names)\n",
    "    #matpost.head()\n",
    "    \n",
    "    b=materials.set_index(dlabels.get('code'))[dlabels.get('mat_type')].to_dict()\n",
    "    def mattype(s):\n",
    "        for k,v in b.items():\n",
    "            if k == s:\n",
    "                return v    \n",
    "    matpost[dlabels.get('mat_type')] = matpost[dlabels.get('mat_code')].astype(int).apply(mattype)\n",
    "    \n",
    "    matpost[dlabels.get('tran_date')]= pd.to_datetime(matpost[dlabels.get('tran_date')], format=\"%Y%m%d\")\n",
    "#matpost.head()\n",
    "    matpost[dlabels.get('purchase')]=None\n",
    "    matpost[dlabels.get('issue')]=None\n",
    "    matpost[dlabels.get('issue')] = matpost[dlabels.get('qty')].apply(lambda x:x if x < 0 else 0)\n",
    "    matpost[dlabels.get('purchase')] = matpost[dlabels.get('qty')].apply(lambda x:x if x > 0 else 0)\n",
    "    matpost[dlabels.get('issue')] = matpost['Issue'].abs()\n",
    "    mat1 = matpost.filter([dlabels.get('tran_date'),dlabels.get('mat_type'),dlabels.get('names'),dlabels.get('compunit_id'),dlabels.get('qty'),dlabels.get('qty_nos'),dlabels.get('mat_qty'),dlabels.get('mat_rate'),dlabels.get('mat_value'),dlabels.get('purchase'),dlabels.get('issue')], axis=1)\n",
    "    mat1 = mat1.set_index(dlabels.get('tran_date'))\n",
    "    return mat1"
   ]
  },
  {
   "cell_type": "code",
   "execution_count": null,
   "metadata": {},
   "outputs": [],
   "source": [
    "mat1 = matfunc(materials_path,matpost_path,labels_dict)\n",
    "#mat1"
   ]
  },
  {
   "cell_type": "code",
   "execution_count": null,
   "metadata": {},
   "outputs": [],
   "source": [
    "mat2 = mat1[mat1['MATERIAL_TYPE'] == 104.0]\n",
    "#mat2.head()"
   ]
  },
  {
   "cell_type": "code",
   "execution_count": null,
   "metadata": {},
   "outputs": [],
   "source": [
    "def mat_by_name(material,plot = True):\n",
    "    temp = mat1.drop('MATERIAL_TYPE',axis=1)\n",
    "    temp = mat1[mat1['Names'] == material]\n",
    "    temp = temp.resample('M').agg({'QTY_NOS':sum,'MAT_QTY':sum,'MAT_RATE':'mean','MAT_VALUE':'mean','Purchase':sum,'Issue':sum})\n",
    "    if plot == True:\n",
    "        temp = temp.reset_index('TRAN_DATE')\n",
    "        return temp.iplot(title=material,kind='scatter',x='TRAN_DATE',y=['MAT_QTY', 'QTY_NOS', 'MAT_RATE', 'MAT_VALUE', 'Purchase','Issue'],mode='lines',size=5)\n",
    "    else:\n",
    "        return temp"
   ]
  },
  {
   "cell_type": "code",
   "execution_count": null,
   "metadata": {},
   "outputs": [],
   "source": [
    "def get_most(mat,n):\n",
    "    most_used = mat['Names'].value_counts()[:n].index.tolist()\n",
    "    return most_used"
   ]
  },
  {
   "cell_type": "code",
   "execution_count": null,
   "metadata": {},
   "outputs": [],
   "source": [
    "def name_sort(mat, name):\n",
    "    def soort(l):\n",
    "        for i in l.split():\n",
    "            if i.lower() == name:\n",
    "                return 1\n",
    "\n",
    "        return 0\n",
    "    mat['temp'] = None\n",
    "    mat['Names'] = mat['Names'].astype(str)\n",
    "    mat['temp'] = mat['Names'].apply(soort)\n",
    "    mat = mat[mat['temp'] == 1]\n",
    "    mat = mat.drop('temp',axis=1)\n",
    "    return mat"
   ]
  },
  {
   "cell_type": "code",
   "execution_count": null,
   "metadata": {},
   "outputs": [],
   "source": [
    "def data_sort(mat_,mat_type='104.0',sort_for_mat_type=False,max_values=5,mat_name='sand',sort_for_name=False):\n",
    "    \n",
    "    if sort_for_name == True:\n",
    "        temp2 = name_sort(mat_,mat_name)\n",
    "        mat = temp2\n",
    "        most = get_most(temp2,max_values)\n",
    "        return interact(mat_by_name, material = most , plot = True)\n",
    "    \n",
    "    elif sort_for_mat_type == True:\n",
    "        temp1 = mat_[mat_['MATERIAL_TYPE'] == float(mat_type)]\n",
    "        mat = temp1\n",
    "        most = get_most(temp1,max_values)\n",
    "        return interact(mat_by_name, material = most , plot = True)\n",
    "    \n",
    "    else:\n",
    "        mat = mat_\n",
    "        #return mat\n",
    "        most = get_most(mat,max_values)\n",
    "        return interact(mat_by_name, material = most , plot = True)"
   ]
  },
  {
   "cell_type": "code",
   "execution_count": null,
   "metadata": {},
   "outputs": [],
   "source": [
    "mat2 = mat1[mat1['MATERIAL_TYPE']==104.0]"
   ]
  },
  {
   "cell_type": "code",
   "execution_count": null,
   "metadata": {},
   "outputs": [],
   "source": [
    "mat3 = name_sort(mat2,'sand')"
   ]
  },
  {
   "cell_type": "code",
   "execution_count": null,
   "metadata": {},
   "outputs": [],
   "source": [
    "most = get_most(mat1,20)"
   ]
  },
  {
   "cell_type": "code",
   "execution_count": null,
   "metadata": {},
   "outputs": [],
   "source": [
    "mat_ = mat1\n",
    "#mat_.head()"
   ]
  },
  {
   "cell_type": "code",
   "execution_count": null,
   "metadata": {},
   "outputs": [],
   "source": [
    "data_sort(mat_ = mat1,\n",
    "          mat_type='104.0',\n",
    "          sort_for_mat_type=False,\n",
    "          max_values=15,\n",
    "          mat_name='sand',\n",
    "          sort_for_name=True)"
   ]
  },
  {
   "cell_type": "code",
   "execution_count": null,
   "metadata": {},
   "outputs": [],
   "source": []
  }
 ],
 "metadata": {
  "kernelspec": {
   "display_name": "Python 3",
   "language": "python",
   "name": "python3"
  },
  "language_info": {
   "codemirror_mode": {
    "name": "ipython",
    "version": 3
   },
   "file_extension": ".py",
   "mimetype": "text/x-python",
   "name": "python",
   "nbconvert_exporter": "python",
   "pygments_lexer": "ipython3",
   "version": "3.8.3"
  }
 },
 "nbformat": 4,
 "nbformat_minor": 2
}
